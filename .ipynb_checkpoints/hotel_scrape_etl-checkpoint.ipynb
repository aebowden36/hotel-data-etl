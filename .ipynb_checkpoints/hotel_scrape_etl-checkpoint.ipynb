{
 "cells": [
  {
   "cell_type": "code",
   "execution_count": 2,
   "metadata": {},
   "outputs": [],
   "source": [
    "import pandas as pd\n",
    "from sqlalchemy import create_engine\n",
    "import numpy as np\n",
    "import psycopg2\n",
    "from bs4 import BeautifulSoup as bs\n",
    "from splinter import Browser"
   ]
  },
  {
   "cell_type": "code",
   "execution_count": 3,
   "metadata": {},
   "outputs": [
    {
     "name": "stderr",
     "output_type": "stream",
     "text": [
      "\n",
      "\n",
      "====== WebDriver manager ======\n",
      "Current google-chrome version is 91.0.4472\n",
      "Get LATEST driver version for 91.0.4472\n",
      "Driver [C:\\Users\\Alyssa\\.wdm\\drivers\\chromedriver\\win32\\91.0.4472.101\\chromedriver.exe] found in cache\n"
     ]
    }
   ],
   "source": [
    "from webdriver_manager.chrome import ChromeDriverManager\n",
    "executable_path = {'executable_path': ChromeDriverManager().install()}"
   ]
  },
  {
   "cell_type": "code",
   "execution_count": 5,
   "metadata": {},
   "outputs": [],
   "source": [
    "url = \"https://www.tripadvisor.com/Hotels-g34227-Fort_Lauderdale_Broward_County_Florida-Hotels.html\"\n",
    "\n",
    "browser = Browser('chrome', **executable_path, headless=False)\n",
    "browser.visit(url)\n",
    "\n",
    "html = browser.html\n",
    "soup = bs(html, \"html.parser\")"
   ]
  },
  {
   "cell_type": "code",
   "execution_count": 6,
   "metadata": {},
   "outputs": [],
   "source": [
    "property_title_class = soup.find_all(class_='property_title')\n",
    "hotel_names = []\n",
    "for content in property_title_class:\n",
    "    hotel_name = content.text\n",
    "    hotel_names.append(hotel_name)"
   ]
  },
  {
   "cell_type": "code",
   "execution_count": 7,
   "metadata": {},
   "outputs": [
    {
     "data": {
      "text/plain": [
       "['      B Ocean Resort Fort Lauderdale',\n",
       " '      Ocean Manor Beach Resort Hotel',\n",
       " '      The Westin Fort Lauderdale',\n",
       " '      Riverside Hotel',\n",
       " '      Ocean Sky Hotel & Resort',\n",
       " '      GALLERYone - A DoubleTree Suites by Hilton Hotel',\n",
       " '      Snooze',\n",
       " '      Hotel Maren Fort Lauderdale Beach',\n",
       " '      Hyatt Centric Las Olas Fort Lauderdale',\n",
       " '      Embassy Suites by Hilton Fort Lauderdale 17th Street',\n",
       " '      The Westin Fort Lauderdale Beach Resort',\n",
       " '      Cambria Hotel Fort Lauderdale Beach',\n",
       " '      Hyatt Place Fort Lauderdale Cruise Port',\n",
       " '      Courtyard By Marriott Fort Lauderdale Beach',\n",
       " '      Best Western Plus Fort Lauderdale Airport/Cruise Port',\n",
       " '      Bahia Mar Fort Lauderdale Beach - a DoubleTree by Hilton Hotel',\n",
       " '      Renaissance Fort Lauderdale Cruise Port Hotel',\n",
       " '      Deco Boutique Hotel',\n",
       " '      Sun Tower Hotel & Suites',\n",
       " '      The Dalmar, Fort Lauderdale, a Tribute Portfolio Hotel',\n",
       " '      Best Western Plus Oceanside Inn',\n",
       " '      Ocean Beach Club',\n",
       " '      Marriott Hotel Fort Lauderdale North',\n",
       " '      W Fort Lauderdale',\n",
       " '      Hotel Motel Lauderdale Inn',\n",
       " '      Hampton Inn Fort Lauderdale Airport North Cruise Port',\n",
       " '      Crowne Plaza Ft. Lauderdale Airport/Cruise',\n",
       " '      Lago Mar Beach Resort & Club',\n",
       " '      Holiday Inn Express Hotel & Suites Ft. Lauderdale Airport/Cruise',\n",
       " '      Hilton Fort Lauderdale Beach Resort',\n",
       " '      Ocean Mile Hotel']"
      ]
     },
     "execution_count": 7,
     "metadata": {},
     "output_type": "execute_result"
    }
   ],
   "source": [
    "hotel_names"
   ]
  },
  {
   "cell_type": "code",
   "execution_count": 8,
   "metadata": {},
   "outputs": [
    {
     "ename": "IndentationError",
     "evalue": "unexpected indent (<ipython-input-8-b535c58b8630>, line 3)",
     "output_type": "error",
     "traceback": [
      "\u001b[1;36m  File \u001b[1;32m\"<ipython-input-8-b535c58b8630>\"\u001b[1;36m, line \u001b[1;32m3\u001b[0m\n\u001b[1;33m    website_price_results = []\u001b[0m\n\u001b[1;37m    ^\u001b[0m\n\u001b[1;31mIndentationError\u001b[0m\u001b[1;31m:\u001b[0m unexpected indent\n"
     ]
    }
   ],
   "source": [
    "all_website_prices = soup.find_all(\"div\",  {\"class\": [\"priceBlock ui_column is-12-tablet\", \"price __resizeWatch\"]})\n",
    "    \n",
    "website_price_results = []\n",
    "split_list = []\n",
    "popped_list = []\n",
    "price_with_website = []\n",
    "price_vals = []\n",
    "    \n",
    "for prices in all_website_prices:\n",
    "    if len(prices.text) >= 5:\n",
    "        website_price_results.append(prices.text)\n",
    "    \n",
    "for items in website_price_results:\n",
    "    split_list.append(items.split(\"$\"))\n",
    "    \n",
    "for items in split_list:\n",
    "    items.pop(0)\n",
    "    popped_list.append(items)\n",
    "    \n",
    "for items in popped_list:\n",
    "    if len(items) == 1:\n",
    "        price_with_website.append(items[0])\n",
    "    else:\n",
    "        price_with_website.append(items[1])\n",
    "    \n",
    "for items in price_with_website:\n",
    "    result = re.sub('[^0-9]','', items)\n",
    "    int_results = int(result)\n",
    "    price_vals.append(int_results)\n",
    "rating_links = soup.find_all(\"a\",  {\"class\":'ui_bubble_rating'})\n",
    "hotel_ratings = []\n",
    "    \n",
    "for link in rating_links:\n",
    "    alt_text = link.get('alt')\n",
    "        plit_text = alt_text.split(\" \")\n",
    "        rating = float(split_text[0])\n",
    "        hotel_ratings.append(rating)\n",
    "    \n",
    "    return(hotel_names, price_vals, hotel_ratings)"
   ]
  },
  {
   "cell_type": "code",
   "execution_count": null,
   "metadata": {},
   "outputs": [],
   "source": []
  }
 ],
 "metadata": {
  "kernelspec": {
   "display_name": "Python 3",
   "language": "python",
   "name": "python3"
  },
  "language_info": {
   "codemirror_mode": {
    "name": "ipython",
    "version": 3
   },
   "file_extension": ".py",
   "mimetype": "text/x-python",
   "name": "python",
   "nbconvert_exporter": "python",
   "pygments_lexer": "ipython3",
   "version": "3.8.5"
  }
 },
 "nbformat": 4,
 "nbformat_minor": 4
}
